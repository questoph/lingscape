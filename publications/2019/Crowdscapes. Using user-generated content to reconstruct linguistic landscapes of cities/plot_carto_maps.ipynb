{
 "cells": [
  {
   "cell_type": "markdown",
   "metadata": {},
   "source": [
    "## Plot maps for Lingscape data using CartoFrames\n",
    "\n",
    "With this script, you can plot maps from the Lingscape database using the CartoFrames package\n",
    "Find the reference here: https://cartoframes.readthedocs.io/en/stable/index.html\n",
    "\n",
    "This script was used in the following study:\n",
    "\n",
    "Purschke, Christoph (forthcoming): Crowdscapes. Using user-generated content to (re)construct linguistic landscapes of cities. Vinguistic Vanguard."
   ]
  },
  {
   "cell_type": "code",
   "execution_count": null,
   "metadata": {},
   "outputs": [],
   "source": [
    "#Load the required packages\n",
    "import matplotlib.pyplot as plt\n",
    "import cartoframes\n",
    "from cartoframes import Credentials, Layer, styling, BaseMap\n",
    "import pandas as pd\n",
    "%matplotlib inline"
   ]
  },
  {
   "cell_type": "markdown",
   "metadata": {},
   "source": [
    "Here you need to specify your crededentials to access the CARTO server. \n",
    "If you don't have an account already, visit https://https://carto.com and get one.\n",
    "\n",
    "You will need the user name of your account and your personal API key that you will find in your profile settings."
   ]
  },
  {
   "cell_type": "code",
   "execution_count": null,
   "metadata": {},
   "outputs": [],
   "source": [
    "# Define user credentials as CartoContext (cc)\n",
    "USERNAME = ''\n",
    "APIKEY = ''\n",
    "creds = Credentials(username=USERNAME, key=APIKEY)\n",
    "cc = cartoframes.CartoContext(creds=creds)"
   ]
  },
  {
   "cell_type": "markdown",
   "metadata": {},
   "source": [
    "First, open and inspect the dataset. For every photo, it contains the following information (= columns):\n",
    "\n",
    "- **user_id:** an anonymous unique identifier for contributors\n",
    "- **user_group:** clustering of user participation in groups\n",
    "- **created:** date and time the photo was uploaded to the server\n",
    "- **date:** only year and month of the upload (for easy filtering)\n",
    "- **lng, lat:** the geographic coordinates of the photo\n",
    "- **id:** the reference id of the photo\n",
    "- **country:** the country where the photo was uploaded\n",
    "- **city:** the location where the photo was uploaded\n",
    "- **languages:**: a list of languages visible in the photo; scheme: original name (english name)\n",
    "- **iso_codes:** a list of ISO 639-2/3 language labels of the languages in the photo\n",
    "- **lang_count:** the number of languages visible in the photo"
   ]
  },
  {
   "cell_type": "code",
   "execution_count": null,
   "metadata": {
    "scrolled": true
   },
   "outputs": [],
   "source": [
    "# Get a CARTO table as a pandas DataFrame\n",
    "df = pd.read_csv('pins_data_2019-04.csv', sep=',')\n",
    "# Show colums and data types\n",
    "df.dtypes"
   ]
  },
  {
   "cell_type": "code",
   "execution_count": null,
   "metadata": {},
   "outputs": [],
   "source": [
    "# Print first rows of the dataset.\n",
    "df.head()"
   ]
  },
  {
   "cell_type": "markdown",
   "metadata": {},
   "source": [
    "With the following step you can add an extra column **date_day** from the column **created** that contains date information including only years, months, and days."
   ]
  },
  {
   "cell_type": "code",
   "execution_count": null,
   "metadata": {},
   "outputs": [],
   "source": [
    "# Define start stop and step variables \n",
    "start, stop, step = 0, -10, 1\n",
    "  \n",
    "# Convert date to string for slicing \n",
    "df[\"created\"]= df[\"created\"].astype(str) \n",
    "  \n",
    "# Slice the sting till 10th last element \n",
    "df[\"date_day\"]= df[\"created\"].str.slice(start, stop, step) "
   ]
  },
  {
   "cell_type": "markdown",
   "metadata": {},
   "source": [
    "With the following cell, you can filter the dataset using a specified geobox, i.e., a set of geographic coordinates that define an area on the map. The three prefinde areas are the locations used in the paper, but you can easily add new ones. Simply go to the website http://boundingbox.klokantech.com, define a region, choose the format \"DublinCore\" and copy the values into a dictionary using the equivalents indicated.\n",
    "\n",
    "Then, define the geobox you want to use for filtering by setting the variable **geobox** to the desired location.\n",
    "\n",
    "**NOTE:** If you don't want to filter the data using one of the filters defined in the following cells, simply skip them without executing them."
   ]
  },
  {
   "cell_type": "code",
   "execution_count": null,
   "metadata": {},
   "outputs": [],
   "source": [
    "# geobox equivalences: westlimit=lng_low; ; eastlimit=lng_high; southlimit=lat_low; northlimit=lat_high\n",
    "geobox_vienna = {'westlimit': 16.181831, 'eastlimit': 16.577513, 'southlimit': 48.117907, 'northlimit': 48.322668}\n",
    "\n",
    "# Set active geobox for filtering\n",
    "geobox = geobox_vienna\n",
    "\n",
    "# Define filter for latitude\n",
    "lat_high = df.lat < geobox['northlimit']\n",
    "lat_low = df.lat > geobox['southlimit']\n",
    "geobox_lat = lat_low & lat_high\n",
    "# Filter dataset by latitude\n",
    "df = df[geobox_lat]\n",
    "\n",
    "# Define filter for longitude\n",
    "lng_high = df.lng < geobox['eastlimit']\n",
    "lng_low = df.lng > geobox['westlimit']\n",
    "geobox_lng = lng_low & lng_high\n",
    "# Filter dataset by longitude\n",
    "df = df[geobox_lng]"
   ]
  },
  {
   "cell_type": "markdown",
   "metadata": {},
   "source": [
    "With the following cell, you can filter the dataset as for the column \"lang_count\", i.e., the number of languages tagged per sign."
   ]
  },
  {
   "cell_type": "code",
   "execution_count": null,
   "metadata": {},
   "outputs": [],
   "source": [
    "# Define upper limit of languages per sign\n",
    "countrange_high = df.lang_count < 5\n",
    "# Define upper limit of languages per sign\n",
    "countrange_low = df.lang_count > 0\n",
    "countrange = countrange_low & countrange_high\n",
    "# Filter the dataset as for the defined users\n",
    "df = df[countrange]\n",
    "# Sort dataset by number of lanuages in ascending order\n",
    "df = df.sort_values(['lang_count'])"
   ]
  },
  {
   "cell_type": "markdown",
   "metadata": {},
   "source": [
    "With the following cell, you can filter the dataset as for contributions by a specific group of users. If you want to focus on other users, simply replace the group variable name by the one you want to use."
   ]
  },
  {
   "cell_type": "code",
   "execution_count": null,
   "metadata": {},
   "outputs": [],
   "source": [
    "# Filter dataframe by specific users using the column \"user_id\"\n",
    "powers = df.user_group == 1\n",
    "regulars = df.user_group == 2\n",
    "casuals = df.user_group == 0\n",
    "\n",
    "# Filter the dataset as for the defined user groups\n",
    "df = df[powers]"
   ]
  },
  {
   "cell_type": "markdown",
   "metadata": {},
   "source": [
    "In the following cell, you can filter the dataset as for a specific language. Simply enter the ISO code of the desired language between the round brackets."
   ]
  },
  {
   "cell_type": "code",
   "execution_count": null,
   "metadata": {},
   "outputs": [],
   "source": [
    "# Define language filter by entering ISO code\n",
    "df = df[df['iso_codes'].str.contains(\"LTZ\")]"
   ]
  },
  {
   "cell_type": "markdown",
   "metadata": {},
   "source": [
    "After filtering is done, you need to upload the dataset to the CARTO server so that the CARTO-specific column \"CARTO geometry\" can be added to the data. Then, the table is downloaded again. This step is required for mapping. "
   ]
  },
  {
   "cell_type": "code",
   "execution_count": null,
   "metadata": {},
   "outputs": [],
   "source": [
    "# Write  the table to the CARTO server under a new name so it can be mapped\n",
    "cc.write(df, 'lingscape_data_filtered', lnglat=('lng', 'lat'),\n",
    "         overwrite=True)\n",
    "\n",
    "# Reload table from server\n",
    "df = cc.read('lingscape_data_filtered')"
   ]
  },
  {
   "cell_type": "markdown",
   "metadata": {},
   "source": [
    "If you want to, you can print basic statistics for the filtered dataset, such as the number of uploads, the average of languages per sign, and the distribution of languages per sign in the filtered dataset."
   ]
  },
  {
   "cell_type": "code",
   "execution_count": null,
   "metadata": {},
   "outputs": [],
   "source": [
    "# Define & print basic statistics for dataset.\n",
    "total = df['lang_count'].count()\n",
    "users = df.groupby('user_id').count()\n",
    "mean = df['lang_count'].mean()\n",
    "numbers = df.groupby('lang_count').count()\n",
    "\n",
    "print(\"Pins total: \" + str(total))\n",
    "print(\"Users total: \" + str(len(users)))\n",
    "print(\"Languages per sign average: \" + str(mean))\n",
    "\n",
    "print(\"Distribution of x-lingual signs\")\n",
    "numbers[\"city\"]"
   ]
  },
  {
   "cell_type": "markdown",
   "metadata": {},
   "source": [
    "Now, let us plot am map, finally. You can choose from different predefined color schemes by un-commenting the one you want to use. Alternatively, you can also add a new one. \n",
    "\n",
    "Apart from colors, ou can change a couple of arguments for the function **cc.map()** to design your map, i.e.:\n",
    "\n",
    "Basemap:\n",
    "- **source:** basemap used; available options: \"light\", \"dark\", \"voyager\"\n",
    "- **labels:** position of labels; options: \"back\", \"front\", \"None\"\n",
    "\n",
    "Layer:\n",
    "- dataset to be used for plotting the **dots**; specify as first element in the bracked\n",
    "- **size**: size of the dots; you can set a single size for all points of define a variable size based on the value of a specific column\n",
    "- **color:** color scheme for plotting the dots; you can define the column to use for styling the dots (\"column\") and the color **scheme** to be used; within the color scheme, you can specify the number of **bins** to use, i.e., the number of different values to plot, and the **bin_method** to be used; in our case by \"category\"\n",
    "- **lat, lng:** the coordinates used as center of the map section that you will plot\n",
    "- **zoom:** the zoom level to be used on the basemap, based on the defined location (lat, lng)\n",
    "- **interactive:** plot an interactive or static map; available options: True (for an interactive map), False (for a static map)\n",
    "- **size:** define image size in pixels\n",
    "\n",
    "For further information about the available color schemes and bin_optons, see the package reference: https://cartoframes.readthedocs.io/en/stable/styling.html\n",
    "\n",
    "**NOTE:** The number of colors you enter has to match the number of \"bins\" defined in the function **cc.map**."
   ]
  },
  {
   "cell_type": "code",
   "execution_count": null,
   "metadata": {},
   "outputs": [],
   "source": [
    "# Choose a color scheme for the dots on your map according to the type of map you want to plot\n",
    "#colors = [\"#4CBDE5\", \"#59AE39\", \"#F0CB0E\", \"#E94E48\"] # colors used to plot number of languages per sign\n",
    "colors = [\"#59AE39\"] # contributions of power users (green)\n",
    "#colors = [\"#A50021\"] # contributions of regular users (red)\n",
    "#colors = [\"#0D83B7\"] # contributions of casual users (blue)\n",
    "\n",
    "# Call the function to plot the map\n",
    "cc.map(layers=[BaseMap(source='light', labels='back'), \n",
    "                Layer('lingscape_data_filtered',\n",
    "                #size={'column': 'lang_count', 'max': 16, 'min': 13}, # set variable size by value\n",
    "                size=18, # set one size for all points\n",
    "                color={'column': 'user_group', 'scheme': styling.custom(colors, bins= 1, bin_method= 'category')})],\n",
    "                #lat=48.203207, lng=16.355315, # location: Vienna\n",
    "                lat=48.206681, lng=16.438382, # location: Vienna / user 1\n",
    "                zoom=13,\n",
    "                interactive=False, \n",
    "                size=(1600, 1200))\n",
    "\n",
    "# Define file name for saving the map\n",
    "map_name = \"vienna_power users.png\"\n",
    "# Save to file\n",
    "plt.savefig(map_name, dpi=300, format='png') "
   ]
  },
  {
   "cell_type": "code",
   "execution_count": null,
   "metadata": {},
   "outputs": [],
   "source": []
  }
 ],
 "metadata": {
  "kernelspec": {
   "display_name": "Python 3",
   "language": "python",
   "name": "python3"
  },
  "language_info": {
   "codemirror_mode": {
    "name": "ipython",
    "version": 3
   },
   "file_extension": ".py",
   "mimetype": "text/x-python",
   "name": "python",
   "nbconvert_exporter": "python",
   "pygments_lexer": "ipython3",
   "version": "3.7.3"
  }
 },
 "nbformat": 4,
 "nbformat_minor": 2
}
