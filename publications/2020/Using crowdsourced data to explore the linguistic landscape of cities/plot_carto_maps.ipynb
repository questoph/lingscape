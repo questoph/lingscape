{
 "cells": [
  {
   "cell_type": "markdown",
   "metadata": {},
   "source": [
    "## Plot maps with the Lingscape using CARTOFrames\n",
    "\n",
    "With this script, you can plot maps from the Lingscape database using the CARToframes package by CARTO.\n",
    "You can find it here: https://carto.com/developers/cartoframes/\n",
    "\n",
    "Please make sure to use at least CARTOframes v1.0.0.\n",
    "\n",
    "This notebook was used in the following study:\n",
    "\n",
    "Purschke, Christoph (forthcoming): Using crowdsourced data to explore the linguistic landscape of cities. Results from the participatory research project Lingscape. In: Brunn, Stanley / Kehrein, Roland (eds.): *Handbook of the Changing World Language Map.* Heidelberg: Springer."
   ]
  },
  {
   "cell_type": "code",
   "execution_count": null,
   "metadata": {},
   "outputs": [],
   "source": [
    "#Load the required packages\n",
    "import matplotlib.pyplot as plt\n",
    "from cartoframes.viz import Map, Layer, color_bins_style, color_category_style\n",
    "from geopandas import GeoDataFrame, points_from_xy\n",
    "import pandas as pd\n",
    "%matplotlib inline"
   ]
  },
  {
   "cell_type": "markdown",
   "metadata": {},
   "source": [
    "First, open and inspect the dataset. For every photo, it contains the following information (= columns):\n",
    "\n",
    "- **user_id:** an anonymous unique identifier for contributors\n",
    "- **created:** date and time the photo was uploaded to the server\n",
    "- **date:** only year and month of the upload (for easy filtering)\n",
    "- **lng, lat:** the geographic coordinates of the photo\n",
    "- **id:** the reference id of the photo\n",
    "- **country:** the country where the photo was uploaded\n",
    "- **city:** the location where the photo was uploaded\n",
    "- **languages:**: a list of languages visible in the photo; scheme: original name (english name)\n",
    "- **iso_codes:** a list of ISO 639-2/3 language labels of the languages in the photo\n",
    "- **lang_count:** the number of languages visible in the photo"
   ]
  },
  {
   "cell_type": "code",
   "execution_count": null,
   "metadata": {
    "scrolled": true
   },
   "outputs": [],
   "source": [
    "# Get a CARTO table as a pandas DataFrame\n",
    "df = pd.read_csv('pins_data_2019-04.csv', sep=',')\n",
    "# Show colums and data types\n",
    "df.dtypes"
   ]
  },
  {
   "cell_type": "code",
   "execution_count": null,
   "metadata": {},
   "outputs": [],
   "source": [
    "# Print first rows of the dataset.\n",
    "df.head()"
   ]
  },
  {
   "cell_type": "markdown",
   "metadata": {},
   "source": [
    "With the following step you can add an extra column **date_day** from the column **created** that contains date information including only years, months, and days."
   ]
  },
  {
   "cell_type": "code",
   "execution_count": null,
   "metadata": {},
   "outputs": [],
   "source": [
    "# Define start stop and step variables \n",
    "start, stop, step = 0, -10, 1\n",
    "  \n",
    "# Convert date to string for slicing \n",
    "df[\"created\"]= df[\"created\"].astype(str) \n",
    "  \n",
    "# Slice the sting till 10th last element \n",
    "df[\"date_day\"]= df[\"created\"].str.slice(start, stop, step) "
   ]
  },
  {
   "cell_type": "markdown",
   "metadata": {},
   "source": [
    "With the following cell, you can filter the dataset using a specified geobox, i.e., a set of geographic coordinates that define an area on the map. The three prefinde areas are the locations used in the paper, but you can easily add new ones. Simply go to the website http://boundingbox.klokantech.com, define a region, choose the format \"DublinCore\" and copy the values into a dictionary using the equivalents indicated.\n",
    "\n",
    "Then, define the geobox you want to use for filtering by setting the variable **geobox** to the desired location.\n",
    "\n",
    "#### NOTE: If you don't want to filter the data using one of the filters defined in the following cells, simply skip them without executing them."
   ]
  },
  {
   "cell_type": "code",
   "execution_count": null,
   "metadata": {},
   "outputs": [],
   "source": [
    "# geobox equivalences: westlimit=lng_low; ; eastlimit=lng_high; southlimit=lat_low; northlimit=lat_high\n",
    "geobox_luxembourg = {'westlimit': 6.06917, 'eastlimit': 6.203649, \n",
    "                     'southlimit': 49.560986, 'northlimit': 49.65487}\n",
    "geobox_vienna = {'westlimit': 16.181831, 'eastlimit': 16.577513, \n",
    "                 'southlimit': 48.117907, 'northlimit': 48.322668}\n",
    "geobox_vancouver = {'westlimit': -123.224961, 'eastlimit': -123.023242, \n",
    "                    'southlimit': 49.198445, 'northlimit': 49.316171}\n",
    "\n",
    "# Set active geobox for filtering\n",
    "geobox = geobox_luxembourg\n",
    "\n",
    "# Define filter for latitude\n",
    "lat_high = df.lat < geobox['northlimit']\n",
    "lat_low = df.lat > geobox['southlimit']\n",
    "geobox_lat = lat_low & lat_high\n",
    "# Filter dataset by latitude\n",
    "df = df[geobox_lat]\n",
    "\n",
    "# Define filter for longitude\n",
    "lng_high = df.lng < geobox['eastlimit']\n",
    "lng_low = df.lng > geobox['westlimit']\n",
    "geobox_lng = lng_low & lng_high\n",
    "# Filter dataset by longitude\n",
    "df = df[geobox_lng]"
   ]
  },
  {
   "cell_type": "markdown",
   "metadata": {},
   "source": [
    "With the following cell, you can filter the dataset as for contributions by specific (anonymous) users. If you want to focus on other users, simply replace the Lingscaper names by the ones you want to use."
   ]
  },
  {
   "cell_type": "code",
   "execution_count": null,
   "metadata": {},
   "outputs": [],
   "source": [
    "# Filter dataframe by specific users using the column \"user_id\"\n",
    "user_1 = df.user_id == \"Lingscaper_544\"\n",
    "user_2 = df.user_id == \"Lingscaper_170\"\n",
    "user_3 = df.user_id == \"Lingscaper_7\"\n",
    "user_4 = df.user_id == \"Lingscaper_622\"\n",
    "userfilter = user_1 & user_2 & user_3 & user_4\n",
    "# Filter the dataset as for the defined users\n",
    "df = df[userfilter]"
   ]
  },
  {
   "cell_type": "markdown",
   "metadata": {},
   "source": [
    "With the following cell, you can filter the dataset as for the column \"lang_count\", i.e., the number of languages tagged per sign."
   ]
  },
  {
   "cell_type": "code",
   "execution_count": null,
   "metadata": {},
   "outputs": [],
   "source": [
    "# Define upper limit of languages per sign\n",
    "countrange_high = df.lang_count < 5\n",
    "# Define upper limit of languages per sign\n",
    "countrange_low = df.lang_count > 0\n",
    "countrange = countrange_low & countrange_high\n",
    "# Filter the dataset as for the defined users\n",
    "df = df[countrange]\n",
    "# Sort dataset by number of lanuages in ascending order\n",
    "df = df.sort_values(['lang_count'])"
   ]
  },
  {
   "cell_type": "markdown",
   "metadata": {},
   "source": [
    "In the following cell, you can filter the dataset as for a specific language. Simply enter the ISO code of the desired language between the round brackets."
   ]
  },
  {
   "cell_type": "code",
   "execution_count": null,
   "metadata": {},
   "outputs": [],
   "source": [
    "# Define language filter by entering ISO code\n",
    "df = df[df['iso_codes'].str.contains(\"LTZ\")]"
   ]
  },
  {
   "cell_type": "markdown",
   "metadata": {},
   "source": [
    "In the following cell, you can filter the dataset as for a specific days as defined in the column \"date_day\" above. Simply enter the days to filter for in the list \"dayfilter."
   ]
  },
  {
   "cell_type": "code",
   "execution_count": null,
   "metadata": {},
   "outputs": [],
   "source": [
    "# Define extra filter for specific days\n",
    "# (used for the uploads per day analysis in Vancouver)\n",
    "dayfilter = ['2016-10-30', '2016-11-01', '2016-11-02', '2016-11-04', '2016-11-05']\n",
    "df = df[df[\"date_day\"].str.contains('|'.join(dayfilter))]"
   ]
  },
  {
   "cell_type": "markdown",
   "metadata": {},
   "source": [
    "In order to plot the data, we need to add the CARTO-specific geometry to our dataset. We can do so by encoding the columns \"lat\"/\"lng\" to a geometry using *geopandas*."
   ]
  },
  {
   "cell_type": "code",
   "execution_count": null,
   "metadata": {},
   "outputs": [],
   "source": [
    "# Encode lat/lng from dataset to CARTO geometry\n",
    "gdf = GeoDataFrame(df, geometry=points_from_xy(df['lng'], df['lat']))"
   ]
  },
  {
   "cell_type": "markdown",
   "metadata": {},
   "source": [
    "If you want to, you can print basic statistics for the filtered dataset, such as the number of uploads, the average of languages per sign, and the distribution of languages per sign in the filtered dataset."
   ]
  },
  {
   "cell_type": "code",
   "execution_count": null,
   "metadata": {},
   "outputs": [],
   "source": [
    "# Define & print basic statistics for dataset.\n",
    "total = df['lang_count'].count()\n",
    "mean = df['lang_count'].mean()\n",
    "numbers = df.groupby('lang_count').count()\n",
    "\n",
    "print(\"Pins total: \" + str(total))\n",
    "print(\"Languages average: \" + str(mean))\n",
    "\n",
    "numbers[\"city\"]"
   ]
  },
  {
   "cell_type": "markdown",
   "metadata": {},
   "source": [
    "Now, let us plot am map, finally. You can choose from different predefined color schemes by un-commenting the one you want to use. Alternatively, you can also add a new one. \n",
    "\n",
    "Apart from colors, ou can change a couple of arguments for the function **Map( )** to design your map, i.e.:\n",
    "\n",
    "Map:\n",
    "- **Layer:** see below\n",
    "- **source:** basemap used; available options: \"Positron\", \"Voyager\", \"Darkmatter\"\n",
    "- **show_info:** display center and zoom information in the map\n",
    "- **viewport:** specify the center of the map (lat, lng) and zoom level for plotting\n",
    "- **size:** define the size (width, height) of the map to plot\n",
    "- **is static:** plot static or interactive maps\n",
    "\n",
    "Layer:\n",
    "- **1st element:** dataset to be used for plotting the **dots**; specify as first element in the bracket\n",
    "- **2nd element:** type of **mapping style** used for plotting; see below\n",
    "- **default_Legend:** show **legend** for the plotted elements\n",
    "\n",
    "Mapping style:\n",
    "- **color_bins_style:** plot data using **numerical infos**, in our case the number of languages per sign\n",
    "    - *1st element:* specify the data column to use, in our case \"lang_count\"\n",
    "    - *method:* specify the bin method, in our case \"equal\"\n",
    "    - *bins:* specify the number of bins to use; this should match the number of categories in the data\n",
    "    - *size:* set the point size for the data\n",
    "    - *palette:* specify the color palette; you can use one of the specified lists of colors or one or the predefined palettes from CARTO\n",
    "    - *stroke_width:* set the stroke width for the points to plot\n",
    "- **color_category_style:** plot data using **categorical infos**, in our case the different days of upload from Vancouver\n",
    "    - *1st element:* specify the data column to use, in our case \"date_day\"\n",
    "    - *top:* number of categories to plot (between 1-16); this should match the number of categories in the data and the number of colors in your palette\n",
    "    - *size:* set the point size for the data\n",
    "    - *palette:* specify the color palette; you can use one of the specified lists of colors or one or the predefined palettes from CARTO\n",
    "    - *stroke_width:* set the stroke width for the points to plot\n",
    "\n",
    "For further information about the available styling and mapping options, see the package reference: https://carto.com/developers/cartoframes/reference/\n",
    "\n",
    "**NOTE:** The number of colors you enter has to match the number of \"bins\" defined in the function **Map( )**."
   ]
  },
  {
   "cell_type": "code",
   "execution_count": null,
   "metadata": {},
   "outputs": [],
   "source": [
    "# Set the coordinates for the center of the map & zoom level\n",
    "\n",
    "location = {'lat': 49.610856, 'lng': 6.129689, 'zoom': 14} # Luxembourg\n",
    "#location = {'lat': 48.203207, 'lng': 16.355315, 'zoom': 12} # Vienna\n",
    "#location = {'lat': 49.285815, 'lng': -123.116671, 'zoom': 12} # Vancouver\n",
    "#location = {'lat': 48.206681, 'lng': 16.438382, 'zoom': 13} # Vienna (only for \"user 1\" in the analysis)\n",
    "\n",
    "# Choose a color scheme for the dots on your map according to the type of map you want to plot\n",
    "\n",
    "colors = [\"#4CBDE5\", \"#59AE39\", \"#F0CB0E\", \"#E94E48\"] # colors used to plot number of languages per sign\n",
    "#colors = [\"#4CBDE5\", \"#59AE39\", \"#F0CB0E\", \"#E94E48\", \"#A50021\"] # colors to plot uploads/day for Vancouver\n",
    "#colors = [\"#59AE39\"] # presence German (green) / Vienna orientation strategy (exhaustive)\n",
    "#colors = [\"#0D83B7\"] # presence French (blue) / Vienna orientation strategy (area focus)\n",
    "#colors = [\"#A50021\"] # presence English (red) / Vienna orientation strategy (strolling)\n",
    "#colors = [\"#E9561A\"] # presence Luxembourgish (orange) / Vienna orientation strategy (street focus)\n",
    "#colors = [\"#F0CB0E\"] # presence Italian (yellow)\n",
    "\n",
    "\n",
    "# Call the function to plot the map\n",
    "\n",
    "Map(\n",
    "    Layer(gdf, \n",
    "          color_bins_style('lang_count', method='equal', bins=5, size=10, palette=colors, stroke_width=0.1),\n",
    "          #color_category_style('date_day', top=5, size=10, palette=colors, stroke_width=0.1),\n",
    "          default_legend=False),\n",
    "    basemap='Positron',\n",
    "    show_info=False,\n",
    "    viewport=location,\n",
    "    #size=(1600, 800)\n",
    "    is_static=False\n",
    ")"
   ]
  },
  {
   "cell_type": "code",
   "execution_count": null,
   "metadata": {},
   "outputs": [],
   "source": []
  }
 ],
 "metadata": {
  "kernelspec": {
   "display_name": "Python 3",
   "language": "python",
   "name": "python3"
  },
  "language_info": {
   "codemirror_mode": {
    "name": "ipython",
    "version": 3
   },
   "file_extension": ".py",
   "mimetype": "text/x-python",
   "name": "python",
   "nbconvert_exporter": "python",
   "pygments_lexer": "ipython3",
   "version": "3.7.5"
  }
 },
 "nbformat": 4,
 "nbformat_minor": 2
}
